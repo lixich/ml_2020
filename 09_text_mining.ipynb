{
 "cells": [
  {
   "cell_type": "markdown",
   "metadata": {},
   "source": [
    "# Интеллектуальный анализ текстов"
   ]
  },
  {
   "cell_type": "code",
   "execution_count": 1,
   "metadata": {},
   "outputs": [
    {
     "name": "stderr",
     "output_type": "stream",
     "text": [
      "C:\\ProgramData\\Anaconda3\\lib\\site-packages\\fuzzywuzzy\\fuzz.py:11: UserWarning: Using slow pure-python SequenceMatcher. Install python-Levenshtein to remove this warning\n",
      "  warnings.warn('Using slow pure-python SequenceMatcher. Install python-Levenshtein to remove this warning')\n"
     ]
    }
   ],
   "source": [
    "import scipy.spatial\n",
    "import numpy as np\n",
    "import pandas as pd\n",
    "from fuzzywuzzy import fuzz\n",
    "from sklearn.feature_extraction.text import TfidfVectorizer\n",
    "from scipy.sparse import csr_matrix"
   ]
  },
  {
   "cell_type": "markdown",
   "metadata": {},
   "source": [
    "## Расстояние Левенштейна "
   ]
  },
  {
   "cell_type": "code",
   "execution_count": 2,
   "metadata": {},
   "outputs": [
    {
     "data": {
      "text/plain": [
       "0.8"
      ]
     },
     "execution_count": 2,
     "metadata": {},
     "output_type": "execute_result"
    }
   ],
   "source": [
    "fuzz.ratio(\"Игра\", \"Играть\")/100"
   ]
  },
  {
   "cell_type": "code",
   "execution_count": 3,
   "metadata": {},
   "outputs": [
    {
     "data": {
      "text/plain": [
       "0.57"
      ]
     },
     "execution_count": 3,
     "metadata": {},
     "output_type": "execute_result"
    }
   ],
   "source": [
    "fuzz.ratio(\"Играющий\", \"Играть\")/100"
   ]
  },
  {
   "cell_type": "code",
   "execution_count": 4,
   "metadata": {},
   "outputs": [
    {
     "data": {
      "text/plain": [
       "0.46"
      ]
     },
     "execution_count": 4,
     "metadata": {},
     "output_type": "execute_result"
    }
   ],
   "source": [
    "fuzz.ratio(\"Обедать\", \"Играть\")/100"
   ]
  },
  {
   "cell_type": "markdown",
   "metadata": {},
   "source": [
    "## Косинусное растояние\n",
    "### Счетчик слов"
   ]
  },
  {
   "cell_type": "code",
   "execution_count": 5,
   "metadata": {},
   "outputs": [
    {
     "name": "stdout",
     "output_type": "stream",
     "text": [
      "[(0, 'что'), (1, 'друг'), (2, 'привет'), (3, 'делаешь'), (4, 'как'), (5, 'доброе'), (6, 'утро'), (7, 'дела')]\n"
     ]
    },
    {
     "data": {
      "text/plain": [
       "[[0, 1, 1, 0, 0, 0, 0, 0],\n",
       " [0, 0, 2, 0, 0, 0, 0, 0],\n",
       " [0, 1, 0, 0, 1, 0, 0, 1],\n",
       " [0, 0, 0, 0, 0, 1, 1, 0],\n",
       " [1, 0, 0, 1, 0, 0, 0, 1]]"
      ]
     },
     "execution_count": 5,
     "metadata": {},
     "output_type": "execute_result"
    }
   ],
   "source": [
    "sentences = [\n",
    "    'привет друг',\n",
    "    'привет привет',\n",
    "    'как дела друг',\n",
    "    'доброе утро',\n",
    "    'что делаешь'\n",
    "]\n",
    "tokens = set(' '.join(sentences).split())\n",
    "vectors = [[sentence.count(token) for token in tokens]\n",
    "           for sentence in sentences]\n",
    "print([(i, word) for i, word in enumerate(tokens)])\n",
    "vectors"
   ]
  },
  {
   "cell_type": "code",
   "execution_count": 6,
   "metadata": {},
   "outputs": [
    {
     "name": "stdout",
     "output_type": "stream",
     "text": [
      "привет друг\n",
      "0.0\n",
      "привет привет\n",
      "0.29289321881345254\n",
      "как дела друг\n",
      "0.5917517095361369\n",
      "доброе утро\n",
      "1.0\n",
      "что делаешь\n",
      "1.0\n"
     ]
    }
   ],
   "source": [
    "for i, sentence in enumerate(sentences):\n",
    "    print(sentence)\n",
    "    print(scipy.spatial.distance.cosine(vectors[0], vectors[i]))"
   ]
  },
  {
   "cell_type": "markdown",
   "metadata": {},
   "source": [
    "### TF-IDF"
   ]
  },
  {
   "cell_type": "code",
   "execution_count": 7,
   "metadata": {},
   "outputs": [
    {
     "name": "stdout",
     "output_type": "stream",
     "text": [
      "[(0, 'дела'), (1, 'делаешь'), (2, 'доброе'), (3, 'друг'), (4, 'как'), (5, 'привет'), (6, 'утро'), (7, 'что')]\n"
     ]
    },
    {
     "data": {
      "text/plain": [
       "[[0.0, 0.0, 0.0, 0.7071067811865476, 0.0, 0.7071067811865476, 0.0, 0.0],\n",
       " [0.0, 0.0, 0.0, 0.0, 0.0, 1.0, 0.0, 0.0],\n",
       " [0.6141889663426562,\n",
       "  0.0,\n",
       "  0.0,\n",
       "  0.49552379079705033,\n",
       "  0.6141889663426562,\n",
       "  0.0,\n",
       "  0.0,\n",
       "  0.0],\n",
       " [0.0, 0.0, 0.7071067811865475, 0.0, 0.0, 0.0, 0.7071067811865475, 0.0],\n",
       " [0.0, 0.7071067811865475, 0.0, 0.0, 0.0, 0.0, 0.0, 0.7071067811865475]]"
      ]
     },
     "execution_count": 7,
     "metadata": {},
     "output_type": "execute_result"
    }
   ],
   "source": [
    "vectorizer = TfidfVectorizer() #TfidfVectorizer(stop_words=['как', 'что'])\n",
    "X = vectorizer.fit_transform(sentences)\n",
    "len_vector = len(vectorizer.get_feature_names())\n",
    "print([(i, word) for i, word in enumerate(vectorizer.get_feature_names())])\n",
    "vectors = [list(i) for i in csr_matrix(X).toarray()]\n",
    "vectors"
   ]
  },
  {
   "cell_type": "code",
   "execution_count": 8,
   "metadata": {},
   "outputs": [
    {
     "name": "stdout",
     "output_type": "stream",
     "text": [
      "привет друг\n",
      "0.0\n",
      "привет привет\n",
      "0.2928932188134524\n",
      "как дела друг\n",
      "0.6496117672881416\n",
      "доброе утро\n",
      "1.0\n",
      "что делаешь\n",
      "1.0\n"
     ]
    }
   ],
   "source": [
    "for i, sentence in enumerate(sentences):\n",
    "    print(sentence)\n",
    "    print(scipy.spatial.distance.cosine(vectors[0], vectors[i]))"
   ]
  },
  {
   "cell_type": "code",
   "execution_count": 9,
   "metadata": {},
   "outputs": [
    {
     "name": "stdout",
     "output_type": "stream",
     "text": [
      "[0.70710678 0.         0.         0.         0.70710678 0.\n",
      " 0.         0.        ]\n"
     ]
    }
   ],
   "source": [
    "new_sentence = 'как дела товарищ'\n",
    "print(csr_matrix(vectorizer.transform([new_sentence])).toarray()[0])"
   ]
  },
  {
   "cell_type": "markdown",
   "metadata": {},
   "source": [
    "## По наиболее схожему вопросу найти ответ"
   ]
  },
  {
   "cell_type": "code",
   "execution_count": 14,
   "metadata": {},
   "outputs": [
    {
     "data": {
      "text/html": [
       "<div>\n",
       "<style scoped>\n",
       "    .dataframe tbody tr th:only-of-type {\n",
       "        vertical-align: middle;\n",
       "    }\n",
       "\n",
       "    .dataframe tbody tr th {\n",
       "        vertical-align: top;\n",
       "    }\n",
       "\n",
       "    .dataframe thead th {\n",
       "        text-align: right;\n",
       "    }\n",
       "</style>\n",
       "<table border=\"1\" class=\"dataframe\">\n",
       "  <thead>\n",
       "    <tr style=\"text-align: right;\">\n",
       "      <th></th>\n",
       "      <th>question</th>\n",
       "      <th>answer</th>\n",
       "    </tr>\n",
       "  </thead>\n",
       "  <tbody>\n",
       "    <tr>\n",
       "      <th>0</th>\n",
       "      <td>Как узнать условия кредитования?</td>\n",
       "      <td>Узнайте подробные условия, по кредиту и рассчи...</td>\n",
       "    </tr>\n",
       "    <tr>\n",
       "      <th>1</th>\n",
       "      <td>Могу ли я взять кредит в Сбербанке, если у мен...</td>\n",
       "      <td>Да, вы можете получить в Сбербанке новый креди...</td>\n",
       "    </tr>\n",
       "    <tr>\n",
       "      <th>2</th>\n",
       "      <td>Как подать заявку на кредит в Сбербанке?</td>\n",
       "      <td>Удобнее всего подать заявку на кредит в Сберба...</td>\n",
       "    </tr>\n",
       "    <tr>\n",
       "      <th>3</th>\n",
       "      <td>Как оформить кредит в Сбербанк Онлайн?</td>\n",
       "      <td>Чтобы подать заявку на кредит в Сбербанк Онлай...</td>\n",
       "    </tr>\n",
       "    <tr>\n",
       "      <th>4</th>\n",
       "      <td>Какой срок рассмотрения заявки на кредит в Сбе...</td>\n",
       "      <td>Максимальный срок рассмотрения заявки – 2 рабо...</td>\n",
       "    </tr>\n",
       "  </tbody>\n",
       "</table>\n",
       "</div>"
      ],
      "text/plain": [
       "                                            question  \\\n",
       "0                   Как узнать условия кредитования?   \n",
       "1  Могу ли я взять кредит в Сбербанке, если у мен...   \n",
       "2           Как подать заявку на кредит в Сбербанке?   \n",
       "3             Как оформить кредит в Сбербанк Онлайн?   \n",
       "4  Какой срок рассмотрения заявки на кредит в Сбе...   \n",
       "\n",
       "                                              answer  \n",
       "0  Узнайте подробные условия, по кредиту и рассчи...  \n",
       "1  Да, вы можете получить в Сбербанке новый креди...  \n",
       "2  Удобнее всего подать заявку на кредит в Сберба...  \n",
       "3  Чтобы подать заявку на кредит в Сбербанк Онлай...  \n",
       "4  Максимальный срок рассмотрения заявки – 2 рабо...  "
      ]
     },
     "execution_count": 14,
     "metadata": {},
     "output_type": "execute_result"
    }
   ],
   "source": [
    "df = pd.read_excel('sber_questions.xlsx', sheet_nam='All', names=['question', 'answer'])\n",
    "df.head()"
   ]
  },
  {
   "cell_type": "code",
   "execution_count": 15,
   "metadata": {},
   "outputs": [
    {
     "data": {
      "text/plain": [
       "['Как узнать условия кредитования?',\n",
       " 'Могу ли я взять кредит в Сбербанке, если у меня уже есть кредиты?',\n",
       " 'Как подать заявку на кредит в Сбербанке?',\n",
       " 'Как оформить кредит в Сбербанк Онлайн?',\n",
       " 'Какой срок рассмотрения заявки на кредит в Сбербанке?',\n",
       " 'Как узнать статус рассмотрения моей заявки на кредит?',\n",
       " 'Мне предварительно одобрили кредит. Что дальше?',\n",
       " 'Как получить деньги по одобренной заявке?',\n",
       " 'Как узнать дату и сумму платежа по кредиту?\\n',\n",
       " 'Как узнать, из чего состоит мой ежемесячный платеж по кредиту?',\n",
       " 'Как узнать задолженность по кредиту?',\n",
       " 'Как узнать, есть ли у меня задолженность по кредитам в Сбербанке?',\n",
       " 'Как узнать, есть ли у меня непогашенные кредиты в Сбербанке?',\n",
       " 'Как мне оформить досрочное погашение по кредиту?',\n",
       " 'Как узнать, какие неустойки мне начислили, если я не погасил кредит вовремя?']"
      ]
     },
     "execution_count": 15,
     "metadata": {},
     "output_type": "execute_result"
    }
   ],
   "source": [
    "list(df['question'])[:15]"
   ]
  },
  {
   "cell_type": "code",
   "execution_count": null,
   "metadata": {},
   "outputs": [],
   "source": []
  }
 ],
 "metadata": {
  "kernelspec": {
   "display_name": "Python 3",
   "language": "python",
   "name": "python3"
  },
  "language_info": {
   "codemirror_mode": {
    "name": "ipython",
    "version": 3
   },
   "file_extension": ".py",
   "mimetype": "text/x-python",
   "name": "python",
   "nbconvert_exporter": "python",
   "pygments_lexer": "ipython3",
   "version": "3.6.4"
  }
 },
 "nbformat": 4,
 "nbformat_minor": 2
}

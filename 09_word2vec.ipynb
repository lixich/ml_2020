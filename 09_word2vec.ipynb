{
 "cells": [
  {
   "cell_type": "markdown",
   "metadata": {},
   "source": [
    "# Word2vec\n",
    "## Existing models\n",
    "https://github.com/RaRe-Technologies/gensim-data"
   ]
  },
  {
   "cell_type": "code",
   "execution_count": 1,
   "metadata": {},
   "outputs": [],
   "source": [
    "import gensim.downloader as api"
   ]
  },
  {
   "cell_type": "markdown",
   "metadata": {},
   "source": [
    "### English model"
   ]
  },
  {
   "cell_type": "code",
   "execution_count": 2,
   "metadata": {},
   "outputs": [],
   "source": [
    "model_eng = api.load(\"glove-twitter-25\")"
   ]
  },
  {
   "cell_type": "code",
   "execution_count": 3,
   "metadata": {},
   "outputs": [
    {
     "data": {
      "text/plain": [
       "[('administrator', 0.9545297026634216),\n",
       " ('consultant', 0.9456777572631836),\n",
       " ('advisor', 0.9416788816452026),\n",
       " ('engineer', 0.9342100620269775),\n",
       " ('assistant', 0.9327148795127869),\n",
       " ('finance', 0.9319754838943481),\n",
       " ('coordinator', 0.9300969839096069),\n",
       " ('specialist', 0.9288251399993896),\n",
       " ('technical', 0.9264996647834778),\n",
       " ('consulting', 0.9245263934135437)]"
      ]
     },
     "execution_count": 3,
     "metadata": {},
     "output_type": "execute_result"
    }
   ],
   "source": [
    "model_eng.most_similar(\"analyst\")"
   ]
  },
  {
   "cell_type": "markdown",
   "metadata": {},
   "source": [
    "### Russian model"
   ]
  },
  {
   "cell_type": "code",
   "execution_count": 4,
   "metadata": {},
   "outputs": [],
   "source": [
    "model_rus = api.load(\"word2vec-ruscorpora-300\")"
   ]
  },
  {
   "cell_type": "code",
   "execution_count": 5,
   "metadata": {},
   "outputs": [
    {
     "data": {
      "text/plain": [
       "[('ufg_NOUN', 0.6764760613441467),\n",
       " ('j::son_NOUN', 0.6654938459396362),\n",
       " ('эксперт_NOUN', 0.664729118347168),\n",
       " ('инвестбанк_NOUN', 0.6485406160354614),\n",
       " ('надоршин_NOUN', 0.6478258371353149),\n",
       " ('дмитрий::лютягин_NOUN', 0.6457507610321045),\n",
       " ('economist::intelligence_NOUN', 0.6367553472518921),\n",
       " ('брокеркредитсервис_NOUN', 0.6350533962249756),\n",
       " ('morgan::stanley_NOUN', 0.632604718208313),\n",
       " ('экономист_NOUN', 0.6229816675186157)]"
      ]
     },
     "execution_count": 5,
     "metadata": {},
     "output_type": "execute_result"
    }
   ],
   "source": [
    "model_rus.most_similar(\"аналитик_NOUN\")"
   ]
  },
  {
   "cell_type": "markdown",
   "metadata": {},
   "source": [
    "## My corpus"
   ]
  },
  {
   "cell_type": "code",
   "execution_count": 18,
   "metadata": {},
   "outputs": [],
   "source": [
    "from nltk.tokenize import sent_tokenize, word_tokenize \n",
    "import warnings \n",
    "import gensim \n",
    "from gensim.models import Word2Vec, KeyedVectors \n",
    "from tqdm import tqdm_notebook\n",
    "from pprint import pprint\n",
    "\n",
    "warnings.filterwarnings(action = 'ignore') "
   ]
  },
  {
   "cell_type": "code",
   "execution_count": 2,
   "metadata": {},
   "outputs": [],
   "source": [
    "def tokenize(text):\n",
    "    punctuations = '!\"#$%&\\'()*+,./:;<=>?@[\\\\]^—-_`{|}~‘’«»'\n",
    "    tokens = word_tokenize(text.lower())\n",
    "    tokens = list(filter(lambda word: word not in punctuations, tokens))\n",
    "    return tokens"
   ]
  },
  {
   "cell_type": "code",
   "execution_count": 3,
   "metadata": {},
   "outputs": [
    {
     "data": {
      "application/vnd.jupyter.widget-view+json": {
       "model_id": "ba0c2fc04b414ca2b963384fb340bfe9",
       "version_major": 2,
       "version_minor": 0
      },
      "text/html": [
       "<p>Failed to display Jupyter Widget of type <code>HBox</code>.</p>\n",
       "<p>\n",
       "  If you're reading this message in the Jupyter Notebook or JupyterLab Notebook, it may mean\n",
       "  that the widgets JavaScript is still loading. If this message persists, it\n",
       "  likely means that the widgets JavaScript library is either not installed or\n",
       "  not enabled. See the <a href=\"https://ipywidgets.readthedocs.io/en/stable/user_install.html\">Jupyter\n",
       "  Widgets Documentation</a> for setup instructions.\n",
       "</p>\n",
       "<p>\n",
       "  If you're reading this message in another frontend (for example, a static\n",
       "  rendering on GitHub or <a href=\"https://nbviewer.jupyter.org/\">NBViewer</a>),\n",
       "  it may mean that your frontend doesn't currently support widgets.\n",
       "</p>\n"
      ],
      "text/plain": [
       "HBox(children=(IntProgress(value=0, max=5577), HTML(value='')))"
      ]
     },
     "metadata": {},
     "output_type": "display_data"
    },
    {
     "name": "stdout",
     "output_type": "stream",
     "text": [
      "\n"
     ]
    }
   ],
   "source": [
    "sample = open(\"text_perm_it_job_description.txt\", \"r\", encoding='utf') \n",
    "f = sample.read().replace(\"\\n\", \" \") \n",
    "\n",
    "data = []\n",
    "for i in tqdm_notebook(sent_tokenize(f)):\n",
    "    data.append(tokenize(i))"
   ]
  },
  {
   "cell_type": "markdown",
   "metadata": {},
   "source": [
    "## CBOW"
   ]
  },
  {
   "cell_type": "code",
   "execution_count": 5,
   "metadata": {},
   "outputs": [
    {
     "name": "stdout",
     "output_type": "stream",
     "text": [
      "Cosine similarity between 'работа' and 'вакансия' - CBOW :  0.30161306\n",
      "Cosine similarity between 'работа' and 'специальность' - CBOW :  -0.09270092\n",
      "Wall time: 10min 20s\n"
     ]
    }
   ],
   "source": [
    "%%time\n",
    "model1 = gensim.models.Word2Vec(data, min_count = 1, size = 100, window = 5)\n",
    "print(\"Cosine similarity between 'работа' \" + \"and 'вакансия' - CBOW : \", model1.similarity('работа', 'вакансия')) \n",
    "print(\"Cosine similarity between 'работа' \" + \"and 'специальность' - CBOW : \", model1.similarity('работа', 'специальность')) "
   ]
  },
  {
   "cell_type": "code",
   "execution_count": 11,
   "metadata": {},
   "outputs": [],
   "source": [
    "model1.wv.save_word2vec_format('word2vec_cbow_job_description.bin', binary=True)\n",
    "#model1 = KeyedVectors.load_word2vec_format('word2vec_cbow_job_description.bin', binary=True)"
   ]
  },
  {
   "cell_type": "code",
   "execution_count": 12,
   "metadata": {},
   "outputs": [
    {
     "name": "stdout",
     "output_type": "stream",
     "text": [
      "[('numpy', 0.9758040308952332),\n",
      " ('matplotlib', 0.9544049501419067),\n",
      " ('scipy', 0.9390780925750732),\n",
      " ('scikit-learn', 0.9363783597946167),\n",
      " ('sklearn', 0.9210339784622192),\n",
      " ('tensorflow', 0.8885713219642639),\n",
      " ('opencv', 0.8642884492874146),\n",
      " ('keras', 0.8523848056793213),\n",
      " ('perl', 0.8484242558479309),\n",
      " ('spark', 0.8437123894691467)]\n"
     ]
    }
   ],
   "source": [
    "pprint(model1.most_similar('pandas', topn=10))"
   ]
  },
  {
   "cell_type": "code",
   "execution_count": 8,
   "metadata": {},
   "outputs": [
    {
     "name": "stdout",
     "output_type": "stream",
     "text": [
      "pandas vs python: 0.830975\n",
      "pandas vs java:   0.646774\n"
     ]
    }
   ],
   "source": [
    "print(f\"pandas vs python: {model1.similarity('pandas', 'python'):1f}\")\n",
    "print(f\"pandas vs java:   {model1.similarity('pandas', 'java'):1f}\")"
   ]
  },
  {
   "cell_type": "code",
   "execution_count": 9,
   "metadata": {},
   "outputs": [
    {
     "name": "stdout",
     "output_type": "stream",
     "text": [
      "[('бизнес-аналитик', 0.7974302768707275),\n",
      " ('архитектор', 0.7880245447158813),\n",
      " ('экономист', 0.7717010974884033),\n",
      " ('маркетолог', 0.7412537932395935),\n",
      " ('интернет-маркетолог', 0.7326059341430664)]\n"
     ]
    }
   ],
   "source": [
    "pprint(model1.most_similar(positive=['аналитик'], topn=5))"
   ]
  },
  {
   "cell_type": "code",
   "execution_count": 10,
   "metadata": {},
   "outputs": [
    {
     "name": "stdout",
     "output_type": "stream",
     "text": [
      "аналитик + разработчик\n",
      "[('архитектор', 0.8368034362792969),\n",
      " ('программист', 0.8095813989639282),\n",
      " ('тестировщик', 0.7977092266082764),\n",
      " ('ведущий', 0.7747888565063477),\n",
      " ('бизнес-аналитик', 0.7725928425788879)]\n"
     ]
    }
   ],
   "source": [
    "print('аналитик + разработчик')\n",
    "pprint(model1.most_similar(positive=['аналитик', 'разработчик'], topn=5))"
   ]
  },
  {
   "cell_type": "code",
   "execution_count": 12,
   "metadata": {},
   "outputs": [
    {
     "name": "stdout",
     "output_type": "stream",
     "text": [
      "аналитик - разработчик\n",
      "[('статистика', 0.5632426738739014),\n",
      " ('ad-hoc', 0.5117810964584351),\n",
      " ('аналитика', 0.47225406765937805),\n",
      " ('план/факт', 0.47186529636383057),\n",
      " ('отчётность', 0.46078425645828247)]\n"
     ]
    }
   ],
   "source": [
    "print('аналитик - разработчик')\n",
    "pprint(model1.most_similar(positive=['аналитик'], negative=['разработчик'],topn=5))"
   ]
  },
  {
   "cell_type": "markdown",
   "metadata": {},
   "source": [
    "## Skip Gram"
   ]
  },
  {
   "cell_type": "code",
   "execution_count": 13,
   "metadata": {},
   "outputs": [
    {
     "name": "stdout",
     "output_type": "stream",
     "text": [
      "Cosine similarity between 'работа' and 'вакансия' - Skip Gram :  0.42258897\n",
      "Cosine similarity between 'работа' and 'специальность' - Skip Gram :  0.12858261\n",
      "Wall time: 36min 55s\n"
     ]
    }
   ],
   "source": [
    "%%time\n",
    "model2 = gensim.models.Word2Vec(data, min_count = 1, size = 100, window = 5, sg = 1)\n",
    "print(\"Cosine similarity between 'работа' \" +\"and 'вакансия' - Skip Gram : \", model2.similarity('работа', 'вакансия')) \n",
    "print(\"Cosine similarity between 'работа' \" +\"and 'специальность' - Skip Gram : \", model2.similarity('работа', 'специальность')) "
   ]
  },
  {
   "cell_type": "code",
   "execution_count": 16,
   "metadata": {},
   "outputs": [],
   "source": [
    "model2.wv.save_word2vec_format('word2vec_skip_gram_job_description.bin', binary=True)\n",
    "#model2 = KeyedVectors.load_word2vec_format('word2vec_skip_gram_job_description.bin', binary=True)"
   ]
  },
  {
   "cell_type": "code",
   "execution_count": 17,
   "metadata": {},
   "outputs": [
    {
     "data": {
      "text/plain": [
       "[('numpy', 0.9613885879516602),\n",
       " ('matplotlib', 0.9432936906814575),\n",
       " ('scikit-learn', 0.9337726831436157),\n",
       " ('scipy', 0.9094074964523315),\n",
       " ('scikit', 0.9082273244857788),\n",
       " ('sklearn', 0.9056084156036377),\n",
       " ('statsmodels', 0.9012402296066284),\n",
       " ('keras', 0.9005840420722961),\n",
       " ('tensorflow', 0.9000375270843506),\n",
       " ('h5py', 0.8990463018417358)]"
      ]
     },
     "execution_count": 17,
     "metadata": {},
     "output_type": "execute_result"
    }
   ],
   "source": [
    "model2.most_similar('pandas', topn=10)"
   ]
  },
  {
   "cell_type": "code",
   "execution_count": 16,
   "metadata": {},
   "outputs": [
    {
     "name": "stdout",
     "output_type": "stream",
     "text": [
      "pandas vs python: 0.755326\n",
      "pandas vs java:   0.640595\n"
     ]
    }
   ],
   "source": [
    "print(f\"pandas vs python: {model2.similarity('pandas', 'python'):1f}\")\n",
    "print(f\"pandas vs java:   {model2.similarity('pandas', 'java'):1f}\")"
   ]
  },
  {
   "cell_type": "code",
   "execution_count": 17,
   "metadata": {},
   "outputs": [
    {
     "name": "stdout",
     "output_type": "stream",
     "text": [
      "[('бизнес-аналитик', 0.7903444766998291),\n",
      " ('координатор', 0.7282258868217468),\n",
      " ('портфельный', 0.7216520309448242),\n",
      " ('экономист-бухгалтер', 0.7186049222946167),\n",
      " ('ассистент', 0.7174388766288757)]\n"
     ]
    }
   ],
   "source": [
    "pprint(model2.most_similar(positive=['аналитик'], topn=5))"
   ]
  },
  {
   "cell_type": "code",
   "execution_count": 18,
   "metadata": {},
   "outputs": [
    {
     "name": "stdout",
     "output_type": "stream",
     "text": [
      "аналитик + разработчик\n",
      "[('ведущий', 0.796492338180542),\n",
      " ('программист', 0.7550936937332153),\n",
      " ('бизнес-аналитик', 0.7501971125602722),\n",
      " ('java-разработчик', 0.749855637550354),\n",
      " ('старший/ведущий', 0.7481011152267456)]\n"
     ]
    }
   ],
   "source": [
    "print('аналитик + разработчик')\n",
    "pprint(model2.most_similar(positive=['аналитик', 'разработчик'], topn=5))"
   ]
  },
  {
   "cell_type": "code",
   "execution_count": 19,
   "metadata": {},
   "outputs": [
    {
     "name": "stdout",
     "output_type": "stream",
     "text": [
      "аналитик - разработчик\n",
      "[('воронки', 0.4527910351753235),\n",
      " ('аналитика', 0.4170919954776764),\n",
      " ('риск-менеджмент', 0.40561819076538086),\n",
      " ('аналитике', 0.3995368480682373),\n",
      " ('каналу', 0.3971827030181885)]\n"
     ]
    }
   ],
   "source": [
    "print('аналитик - разработчик')\n",
    "pprint(model2.most_similar(positive=['аналитик'], negative=['разработчик'],topn=5))"
   ]
  },
  {
   "cell_type": "code",
   "execution_count": null,
   "metadata": {},
   "outputs": [],
   "source": []
  },
  {
   "cell_type": "code",
   "execution_count": null,
   "metadata": {},
   "outputs": [],
   "source": []
  }
 ],
 "metadata": {
  "kernelspec": {
   "display_name": "Python 3",
   "language": "python",
   "name": "python3"
  },
  "language_info": {
   "codemirror_mode": {
    "name": "ipython",
    "version": 3
   },
   "file_extension": ".py",
   "mimetype": "text/x-python",
   "name": "python",
   "nbconvert_exporter": "python",
   "pygments_lexer": "ipython3",
   "version": "3.6.4"
  }
 },
 "nbformat": 4,
 "nbformat_minor": 2
}

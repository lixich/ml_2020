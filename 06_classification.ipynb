{
 "cells": [
  {
   "cell_type": "code",
   "execution_count": 16,
   "metadata": {
    "colab": {},
    "colab_type": "code",
    "id": "v_B_UklqE4Oy"
   },
   "outputs": [],
   "source": [
    "import pandas as pd\n",
    "from sklearn.linear_model import SGDClassifier, LogisticRegression\n",
    "from sklearn.neighbors import KNeighborsRegressor\n",
    "from sklearn.preprocessing import MinMaxScaler, StandardScaler\n",
    "from sklearn.metrics import roc_auc_score\n",
    "from sklearn.model_selection import train_test_split"
   ]
  },
  {
   "cell_type": "markdown",
   "metadata": {},
   "source": [
    "## Bank Telemarketing\n",
    "Determine who will subscribe a term deposit.\n",
    "\n",
    "The dataset for this competition is from the UCI Machine Learning Repository.  The original source is cited in the data dictionary.  Please do not use the original data during this competition, but rather use the training data provided here.  The data have been modified so that patterns in the original data may not hold.\n",
    "\n",
    "Use the training data to build your models.  Apply your models to the test data and submit a prediction (the prediction column can have values a) 0 = \"no\" and 1 = \"yes\",  b) a probability of a yes, or c) a ranking where a higher number means yes).\n",
    "\n",
    "Each group will present their results during the first class session on April 21st. Requirements regarding the presentation are on Blackboard.\n",
    "\n",
    "\n",
    "Input variables:\n",
    "#### bank client data:\n",
    "1. age (numeric)\n",
    "2. job : type of job (categorical: 'admin.','blue-collar','entrepreneur','housemaid','management','retired','self-employed','services','student','technician','unemployed','unknown')\n",
    "3. marital : marital status (categorical: 'divorced','married','single','unknown'; note: 'divorced' means divorced or widowed)\n",
    "4. education (categorical: 'basic.4y','basic.6y','basic.9y','high.school','illiterate','professional.course','university.degree','unknown')\n",
    "5. default: has credit in default? (categorical: 'no','yes','unknown')\n",
    "6. housing: has housing loan? (categorical: 'no','yes','unknown')\n",
    "7. loan: has personal loan? (categorical: 'no','yes','unknown')\n",
    "\n",
    "#### related with the last contact of the current campaign:\n",
    "8. contact: contact communication type (categorical: 'cellular','telephone') \n",
    "9. month: last contact month of year (categorical: 'jan', 'feb', 'mar', ..., 'nov', 'dec')\n",
    "10. day_of_week: last contact day of the week (categorical: 'mon','tue','wed','thu','fri')\n",
    "11. duration: last contact duration, in seconds (numeric). Important note: this attribute highly affects the output target (e.g., if duration=0 then y='no'). Yet, the duration is not known before a call is performed. Also, after the end of the call y is obviously known. Thus, this input should only be included for benchmark purposes and should be discarded if the intention is to have a realistic predictive model.\n",
    "\n",
    "#### other attributes:\n",
    "12. campaign: number of contacts performed during this campaign and for this client (numeric, includes last contact)\n",
    "13. pdays: number of days that passed by after the client was last contacted from a previous campaign (numeric; 999 means client was not previously contacted)\n",
    "14. previous: number of contacts performed before this campaign and for this client (numeric)\n",
    "15. poutcome: outcome of the previous marketing campaign (categorical: 'failure','nonexistent','success')\n",
    "\n",
    "#### social and economic context attributes\n",
    "16. emp.var.rate: employment variation rate - quarterly indicator (numeric)\n",
    "17. cons.price.idx: consumer price index - monthly indicator (numeric) \n",
    "18. cons.conf.idx: consumer confidence index - monthly indicator (numeric) \n",
    "19. euribor3m: euribor 3 month rate - daily indicator (numeric)\n",
    "20. nr.employed: number of employees - quarterly indicator (numeric)\n",
    "\n",
    "Output variable (desired target):\n",
    "\n",
    "y - has the client subscribed a term deposit? (binary: 'yes','no')"
   ]
  },
  {
   "cell_type": "code",
   "execution_count": 12,
   "metadata": {
    "colab": {
     "base_uri": "https://localhost:8080/",
     "height": 253
    },
    "colab_type": "code",
    "executionInfo": {
     "elapsed": 861,
     "status": "ok",
     "timestamp": 1541621518325,
     "user": {
      "displayName": "Alexey Chusovlyankin",
      "photoUrl": "https://lh5.googleusercontent.com/-3PEr6DUjin0/AAAAAAAAAAI/AAAAAAAAADI/OlTCKosy_UY/s64/photo.jpg",
      "userId": "15035209820687349757"
     },
     "user_tz": -300
    },
    "id": "5P99ZkswE4O6",
    "outputId": "d299214f-ebe5-42a1-d36e-87aff084ff53"
   },
   "outputs": [
    {
     "name": "stderr",
     "output_type": "stream",
     "text": [
      "C:\\ProgramData\\Anaconda3\\lib\\site-packages\\pandas\\util\\_decorators.py:118: FutureWarning: The `sheetname` keyword is deprecated, use `sheet_name` instead\n",
      "  return func(*args, **kwargs)\n"
     ]
    },
    {
     "data": {
      "text/html": [
       "<div>\n",
       "<style scoped>\n",
       "    .dataframe tbody tr th:only-of-type {\n",
       "        vertical-align: middle;\n",
       "    }\n",
       "\n",
       "    .dataframe tbody tr th {\n",
       "        vertical-align: top;\n",
       "    }\n",
       "\n",
       "    .dataframe thead th {\n",
       "        text-align: right;\n",
       "    }\n",
       "</style>\n",
       "<table border=\"1\" class=\"dataframe\">\n",
       "  <thead>\n",
       "    <tr style=\"text-align: right;\">\n",
       "      <th></th>\n",
       "      <th>age</th>\n",
       "      <th>job</th>\n",
       "      <th>marital</th>\n",
       "      <th>education</th>\n",
       "      <th>default</th>\n",
       "      <th>housing</th>\n",
       "      <th>loan</th>\n",
       "      <th>contact</th>\n",
       "      <th>month</th>\n",
       "      <th>day_of_week</th>\n",
       "      <th>...</th>\n",
       "      <th>campaign</th>\n",
       "      <th>pdays</th>\n",
       "      <th>previous</th>\n",
       "      <th>poutcome</th>\n",
       "      <th>emp.var.rate</th>\n",
       "      <th>cons.price.idx</th>\n",
       "      <th>cons.conf.idx</th>\n",
       "      <th>euribor3m</th>\n",
       "      <th>nr.employed</th>\n",
       "      <th>y</th>\n",
       "    </tr>\n",
       "  </thead>\n",
       "  <tbody>\n",
       "    <tr>\n",
       "      <th>1767</th>\n",
       "      <td>32</td>\n",
       "      <td>management</td>\n",
       "      <td>married</td>\n",
       "      <td>university.degree</td>\n",
       "      <td>no</td>\n",
       "      <td>yes</td>\n",
       "      <td>no</td>\n",
       "      <td>cellular</td>\n",
       "      <td>aug</td>\n",
       "      <td>thu</td>\n",
       "      <td>...</td>\n",
       "      <td>1</td>\n",
       "      <td>999</td>\n",
       "      <td>0</td>\n",
       "      <td>nonexistent</td>\n",
       "      <td>1.4</td>\n",
       "      <td>93.444</td>\n",
       "      <td>-36.1</td>\n",
       "      <td>4.964</td>\n",
       "      <td>5228.1</td>\n",
       "      <td>0</td>\n",
       "    </tr>\n",
       "    <tr>\n",
       "      <th>2050</th>\n",
       "      <td>37</td>\n",
       "      <td>self-employed</td>\n",
       "      <td>married</td>\n",
       "      <td>basic.9y</td>\n",
       "      <td>no</td>\n",
       "      <td>yes</td>\n",
       "      <td>no</td>\n",
       "      <td>cellular</td>\n",
       "      <td>aug</td>\n",
       "      <td>fri</td>\n",
       "      <td>...</td>\n",
       "      <td>1</td>\n",
       "      <td>999</td>\n",
       "      <td>0</td>\n",
       "      <td>nonexistent</td>\n",
       "      <td>1.4</td>\n",
       "      <td>93.444</td>\n",
       "      <td>-36.1</td>\n",
       "      <td>4.964</td>\n",
       "      <td>5228.1</td>\n",
       "      <td>0</td>\n",
       "    </tr>\n",
       "    <tr>\n",
       "      <th>57</th>\n",
       "      <td>31</td>\n",
       "      <td>admin.</td>\n",
       "      <td>married</td>\n",
       "      <td>university.degree</td>\n",
       "      <td>no</td>\n",
       "      <td>yes</td>\n",
       "      <td>no</td>\n",
       "      <td>cellular</td>\n",
       "      <td>aug</td>\n",
       "      <td>thu</td>\n",
       "      <td>...</td>\n",
       "      <td>1</td>\n",
       "      <td>999</td>\n",
       "      <td>0</td>\n",
       "      <td>nonexistent</td>\n",
       "      <td>1.4</td>\n",
       "      <td>93.444</td>\n",
       "      <td>-36.1</td>\n",
       "      <td>4.964</td>\n",
       "      <td>5228.1</td>\n",
       "      <td>0</td>\n",
       "    </tr>\n",
       "    <tr>\n",
       "      <th>1621</th>\n",
       "      <td>34</td>\n",
       "      <td>admin.</td>\n",
       "      <td>married</td>\n",
       "      <td>university.degree</td>\n",
       "      <td>no</td>\n",
       "      <td>no</td>\n",
       "      <td>no</td>\n",
       "      <td>telephone</td>\n",
       "      <td>may</td>\n",
       "      <td>tue</td>\n",
       "      <td>...</td>\n",
       "      <td>1</td>\n",
       "      <td>999</td>\n",
       "      <td>0</td>\n",
       "      <td>nonexistent</td>\n",
       "      <td>1.1</td>\n",
       "      <td>93.994</td>\n",
       "      <td>-36.4</td>\n",
       "      <td>4.856</td>\n",
       "      <td>5191.0</td>\n",
       "      <td>0</td>\n",
       "    </tr>\n",
       "    <tr>\n",
       "      <th>2420</th>\n",
       "      <td>36</td>\n",
       "      <td>technician</td>\n",
       "      <td>single</td>\n",
       "      <td>professional.course</td>\n",
       "      <td>no</td>\n",
       "      <td>no</td>\n",
       "      <td>no</td>\n",
       "      <td>cellular</td>\n",
       "      <td>jul</td>\n",
       "      <td>thu</td>\n",
       "      <td>...</td>\n",
       "      <td>4</td>\n",
       "      <td>999</td>\n",
       "      <td>0</td>\n",
       "      <td>nonexistent</td>\n",
       "      <td>1.4</td>\n",
       "      <td>93.918</td>\n",
       "      <td>-42.7</td>\n",
       "      <td>4.958</td>\n",
       "      <td>5228.1</td>\n",
       "      <td>0</td>\n",
       "    </tr>\n",
       "  </tbody>\n",
       "</table>\n",
       "<p>5 rows × 21 columns</p>\n",
       "</div>"
      ],
      "text/plain": [
       "      age            job  marital            education default housing loan  \\\n",
       "1767   32     management  married    university.degree      no     yes   no   \n",
       "2050   37  self-employed  married             basic.9y      no     yes   no   \n",
       "57     31         admin.  married    university.degree      no     yes   no   \n",
       "1621   34         admin.  married    university.degree      no      no   no   \n",
       "2420   36     technician   single  professional.course      no      no   no   \n",
       "\n",
       "        contact month day_of_week ...  campaign  pdays  previous     poutcome  \\\n",
       "1767   cellular   aug         thu ...         1    999         0  nonexistent   \n",
       "2050   cellular   aug         fri ...         1    999         0  nonexistent   \n",
       "57     cellular   aug         thu ...         1    999         0  nonexistent   \n",
       "1621  telephone   may         tue ...         1    999         0  nonexistent   \n",
       "2420   cellular   jul         thu ...         4    999         0  nonexistent   \n",
       "\n",
       "     emp.var.rate  cons.price.idx  cons.conf.idx  euribor3m  nr.employed  y  \n",
       "1767          1.4          93.444          -36.1      4.964       5228.1  0  \n",
       "2050          1.4          93.444          -36.1      4.964       5228.1  0  \n",
       "57            1.4          93.444          -36.1      4.964       5228.1  0  \n",
       "1621          1.1          93.994          -36.4      4.856       5191.0  0  \n",
       "2420          1.4          93.918          -42.7      4.958       5228.1  0  \n",
       "\n",
       "[5 rows x 21 columns]"
      ]
     },
     "execution_count": 12,
     "metadata": {},
     "output_type": "execute_result"
    }
   ],
   "source": [
    "df = pd.read_excel('bankTestReport.xlsx', sheetname='Train')\n",
    "df['y'] = df.apply(lambda row: 0 if str(row.y) == 'no'else 1, axis=1)\n",
    "df_train, df_test =  train_test_split(df, test_size=0.33, random_state=42)\n",
    "df_train.head()"
   ]
  },
  {
   "cell_type": "markdown",
   "metadata": {},
   "source": [
    "### Факторы: значения"
   ]
  },
  {
   "cell_type": "code",
   "execution_count": 13,
   "metadata": {
    "colab": {
     "base_uri": "https://localhost:8080/",
     "height": 289
    },
    "colab_type": "code",
    "executionInfo": {
     "elapsed": 582,
     "status": "ok",
     "timestamp": 1541621520006,
     "user": {
      "displayName": "Alexey Chusovlyankin",
      "photoUrl": "https://lh5.googleusercontent.com/-3PEr6DUjin0/AAAAAAAAAAI/AAAAAAAAADI/OlTCKosy_UY/s64/photo.jpg",
      "userId": "15035209820687349757"
     },
     "user_tz": -300
    },
    "id": "L5nb0mLiE4PC",
    "outputId": "67d2d9b5-8f4d-4cdf-a01f-1c8f50d1df60",
    "scrolled": false
   },
   "outputs": [
    {
     "name": "stdout",
     "output_type": "stream",
     "text": [
      "age: [18: 88]\n",
      "job: ['admin.', 'blue-collar', 'entrepreneur', 'housemaid', 'management', 'retired', 'self-employed', 'services', 'student', 'technician', 'unemployed', 'unknown']\n",
      "marital: ['divorced', 'married', 'single', 'unknown']\n",
      "education: ['basic.4y', 'basic.6y', 'basic.9y', 'high.school', 'professional.course', 'university.degree', 'unknown']\n",
      "default: ['no', 'unknown']\n",
      "housing: ['no', 'unknown', 'yes']\n",
      "loan: ['no', 'unknown', 'yes']\n",
      "contact: ['cellular', 'telephone']\n",
      "month: ['apr', 'aug', 'dec', 'jul', 'jun', 'mar', 'may', 'nov', 'oct', 'sep']\n",
      "day_of_week: ['fri', 'mon', 'thu', 'tue', 'wed']\n",
      "duration: [5: 3643]\n",
      "campaign: [1: 24]\n",
      "pdays: [0, 1, 2, 3, 4, 5, 6, 7, 9, 10, 11, 12, 16, 999]\n",
      "previous: [0, 1, 2, 3, 4, 5, 6]\n",
      "poutcome: ['failure', 'nonexistent', 'success']\n",
      "emp.var.rate: [-3.4, -3.0, -2.9, -1.8, -1.7, -1.1, -0.2, -0.1, 1.1, 1.4]\n",
      "cons.price.idx: [92.201: 94.767]\n",
      "cons.conf.idx: [-50.8: -26.9]\n",
      "euribor3m: [0.635: 4.97]\n",
      "nr.employed: [4963.6, 4991.6, 5008.7, 5017.5, 5023.5, 5076.2, 5099.1, 5176.3, 5191.0, 5195.8, 5228.1]\n",
      "y: [0, 1]\n"
     ]
    }
   ],
   "source": [
    "for column in df_train.columns:\n",
    "    factor_values = sorted(df_train[column].unique().tolist())\n",
    "    if len(factor_values) < 20:\n",
    "        print(f\"{column}: {factor_values}\")\n",
    "    else:\n",
    "        print(f\"{column}: [{min(factor_values)}: {max(factor_values)}]\")"
   ]
  },
  {
   "cell_type": "markdown",
   "metadata": {},
   "source": [
    "### Выделение количественнных и категориальных факторов"
   ]
  },
  {
   "cell_type": "code",
   "execution_count": 14,
   "metadata": {},
   "outputs": [],
   "source": [
    "quality_factors = ['age',\n",
    "                   'duration',\n",
    "                   'campaign',\n",
    "                   'pdays',\n",
    "                   'previous',\n",
    "                   'emp.var.rate',\n",
    "                   'cons.price.idx',\n",
    "                   'cons.conf.idx',\n",
    "                   'euribor3m',\n",
    "                   'nr.employed'\n",
    "                  ]\n",
    "categorial_factors = list(set(df_train.columns) - set(quality_factors) - set('y')) "
   ]
  },
  {
   "cell_type": "markdown",
   "metadata": {},
   "source": [
    "### Простейшая модель: линенйая регрессия на основе количественнных факторов\n",
    "Посмотрим качество модели на основе существующих количественных факторов, без дполнительной работы по преобразованию данных, чтобы было с чем сравнивать в дальнейшем. Метрика оценки качество модели - площадь под ROC-кривой, которая показывает зависимость количества верно классифицированных положительных примеров от количества неверно классифицированных отрицательных примеров. "
   ]
  },
  {
   "cell_type": "code",
   "execution_count": 15,
   "metadata": {},
   "outputs": [
    {
     "name": "stdout",
     "output_type": "stream",
     "text": [
      "roc auc train\n",
      "0.7595628595338662\n",
      "roc auc test\n",
      "0.732038338658147\n"
     ]
    },
    {
     "name": "stderr",
     "output_type": "stream",
     "text": [
      "C:\\ProgramData\\Anaconda3\\lib\\site-packages\\sklearn\\linear_model\\stochastic_gradient.py:128: FutureWarning: max_iter and tol parameters have been added in <class 'sklearn.linear_model.stochastic_gradient.SGDClassifier'> in 0.19. If both are left unset, they default to max_iter=5 and tol=None. If tol is not None, max_iter defaults to max_iter=1000. From 0.21, default max_iter will be 1000, and default tol will be 1e-3.\n",
      "  \"and default tol will be 1e-3.\" % type(self), FutureWarning)\n"
     ]
    }
   ],
   "source": [
    "model = SGDClassifier().fit(df_train[quality_factors], df_train['y'])\n",
    "print('roc auc train')\n",
    "print(roc_auc_score(df_train['y'], model.predict(df_train[quality_factors])))\n",
    "print('roc auc test')\n",
    "print(roc_auc_score(df_test['y'], model.predict(df_test[quality_factors])))"
   ]
  },
  {
   "cell_type": "code",
   "execution_count": null,
   "metadata": {
    "colab": {
     "base_uri": "https://localhost:8080/",
     "height": 215
    },
    "colab_type": "code",
    "executionInfo": {
     "elapsed": 1272,
     "status": "ok",
     "timestamp": 1541621585967,
     "user": {
      "displayName": "Alexey Chusovlyankin",
      "photoUrl": "https://lh5.googleusercontent.com/-3PEr6DUjin0/AAAAAAAAAAI/AAAAAAAAADI/OlTCKosy_UY/s64/photo.jpg",
      "userId": "15035209820687349757"
     },
     "user_tz": -300
    },
    "id": "vozOxOoTE4Q9",
    "outputId": "5fb88517-ec3d-4e2b-896a-0c691c920b15"
   },
   "outputs": [],
   "source": []
  }
 ],
 "metadata": {
  "colab": {
   "name": "LoL_game.ipynb",
   "provenance": [],
   "version": "0.3.2"
  },
  "kernelspec": {
   "display_name": "Python 3",
   "language": "python",
   "name": "python3"
  },
  "language_info": {
   "codemirror_mode": {
    "name": "ipython",
    "version": 3
   },
   "file_extension": ".py",
   "mimetype": "text/x-python",
   "name": "python",
   "nbconvert_exporter": "python",
   "pygments_lexer": "ipython3",
   "version": "3.6.4"
  }
 },
 "nbformat": 4,
 "nbformat_minor": 1
}
